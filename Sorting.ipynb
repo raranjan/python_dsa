{
 "cells": [
  {
   "cell_type": "markdown",
   "id": "ef0aff9d-00b9-4896-b0fa-b9de01ac793d",
   "metadata": {},
   "source": [
    "## Brute Force way to sort a given list\n",
    "Given a list, A = [4,2,9,5,3,7,1]\n",
    "Will start from index = 0 and select the minimum value in the rest of the list. If there exist a minimum in the rest of the list, then swap existing item with minimum\n",
    "\n",
    "T(n) = O($n^2$)"
   ]
  },
  {
   "cell_type": "code",
   "execution_count": 33,
   "id": "94387309-7ee4-457f-ad6f-697ba59ce256",
   "metadata": {},
   "outputs": [
    {
     "name": "stdout",
     "output_type": "stream",
     "text": [
      "[1, 2, 3, 4, 5, 7, 9]\n"
     ]
    }
   ],
   "source": [
    "nums = [4,2,9,5,3,7,1]\n",
    "\n",
    "def selection_sort(nums):\n",
    "    for i in range(len(nums)):\n",
    "        min_value = nums[i]\n",
    "        min_index = i\n",
    "        for j in range(i+1, len(nums)):\n",
    "            if nums[j] < min_value:\n",
    "                min_value = nums[j]\n",
    "                min_index = j\n",
    "        nums[i], nums[min_index] = nums[min_index], nums[i]\n",
    "    return nums\n",
    "\n",
    "sorted_nums = selection_sort(nums)\n",
    "print(sorted_nums)"
   ]
  },
  {
   "cell_type": "markdown",
   "id": "37a56c2b-d05f-49ef-a8b8-3ac13cb695ae",
   "metadata": {},
   "source": [
    "## Bubble Sort\n",
    "Iterate from right to left and swap any adjacent items in case right item is less than the left item\n",
    "\n",
    "T(n) = O($n^2$)"
   ]
  },
  {
   "cell_type": "code",
   "execution_count": 34,
   "id": "9d0fb697-094e-459f-a9cd-ac28a7773432",
   "metadata": {},
   "outputs": [
    {
     "data": {
      "text/plain": [
       "[1, 2, 3, 4, 5, 7, 9]"
      ]
     },
     "execution_count": 34,
     "metadata": {},
     "output_type": "execute_result"
    }
   ],
   "source": [
    "nums = [4,2,9,5,3,7,1]\n",
    "\n",
    "def bubble_sort(nums):\n",
    "    for i in range(len(nums)):\n",
    "        for j in range(len(nums)-1, i, -1):\n",
    "            if nums[j] < nums[j-1]:\n",
    "                nums[j], nums[j-1] = nums[j-1], nums[j]\n",
    "    return nums\n",
    "\n",
    "bubble_sort(nums)"
   ]
  },
  {
   "cell_type": "markdown",
   "id": "b5751b9b-794f-45d4-83fa-8d80ca965f79",
   "metadata": {},
   "source": [
    "## Insertion Sort\n",
    "Select the smallest item and place it in left side of list which is sorted"
   ]
  },
  {
   "cell_type": "code",
   "execution_count": 38,
   "id": "446e41d8-d78e-4e0d-be2e-775b022d7b9d",
   "metadata": {},
   "outputs": [
    {
     "data": {
      "text/plain": [
       "[1, 2, 3, 4, 5, 7, 9]"
      ]
     },
     "execution_count": 38,
     "metadata": {},
     "output_type": "execute_result"
    }
   ],
   "source": [
    "nums = [4,2,9,5,3,7,1]\n",
    "\n",
    "def insertion_sort(nums):\n",
    "    for i in range(len(nums)):\n",
    "        temp = nums[i]\n",
    "        j = i\n",
    "        while nums[j] < nums[j-1] and j > 0:\n",
    "            nums[j-1], nums[j] = nums[j], nums[j-1]\n",
    "            j = j - 1\n",
    "        nums[j] = temp\n",
    "    return nums\n",
    "\n",
    "insertion_sort(nums)"
   ]
  },
  {
   "cell_type": "markdown",
   "id": "c75fad92-f1df-4a83-8bf4-4bc047126bfe",
   "metadata": {},
   "source": [
    "## Merge Sort"
   ]
  },
  {
   "cell_type": "code",
   "execution_count": 47,
   "id": "7b1d101d-8d99-4486-a400-d09fbb22fc09",
   "metadata": {},
   "outputs": [
    {
     "ename": "IndexError",
     "evalue": "list index out of range",
     "output_type": "error",
     "traceback": [
      "\u001b[0;31m---------------------------------------------------------------------------\u001b[0m",
      "\u001b[0;31mIndexError\u001b[0m                                Traceback (most recent call last)",
      "Cell \u001b[0;32mIn[47], line 37\u001b[0m\n\u001b[1;32m     33\u001b[0m         j \u001b[38;5;241m=\u001b[39m j \u001b[38;5;241m+\u001b[39m \u001b[38;5;241m1\u001b[39m\n\u001b[1;32m     35\u001b[0m     \u001b[38;5;28;01mreturn\u001b[39;00m result\n\u001b[0;32m---> 37\u001b[0m \u001b[43mmerge_sort\u001b[49m\u001b[43m(\u001b[49m\u001b[43mnums\u001b[49m\u001b[43m)\u001b[49m\n",
      "Cell \u001b[0;32mIn[47], line 4\u001b[0m, in \u001b[0;36mmerge_sort\u001b[0;34m(nums)\u001b[0m\n\u001b[1;32m      3\u001b[0m \u001b[38;5;28;01mdef\u001b[39;00m \u001b[38;5;21mmerge_sort\u001b[39m(nums):\n\u001b[0;32m----> 4\u001b[0m     \u001b[43mmerge_sort_helper\u001b[49m\u001b[43m(\u001b[49m\u001b[43mnums\u001b[49m\u001b[43m,\u001b[49m\u001b[43m \u001b[49m\u001b[38;5;241;43m0\u001b[39;49m\u001b[43m,\u001b[49m\u001b[43m \u001b[49m\u001b[38;5;28;43mlen\u001b[39;49m\u001b[43m(\u001b[49m\u001b[43mnums\u001b[49m\u001b[43m)\u001b[49m\u001b[43m)\u001b[49m\n\u001b[1;32m      5\u001b[0m     \u001b[38;5;28;01mreturn\u001b[39;00m nums\n",
      "Cell \u001b[0;32mIn[47], line 16\u001b[0m, in \u001b[0;36mmerge_sort_helper\u001b[0;34m(nums, start, end)\u001b[0m\n\u001b[1;32m     14\u001b[0m mid \u001b[38;5;241m=\u001b[39m (start \u001b[38;5;241m+\u001b[39m end)\u001b[38;5;241m/\u001b[39m\u001b[38;5;241m/\u001b[39m\u001b[38;5;241m2\u001b[39m\n\u001b[1;32m     15\u001b[0m merge_sort_helper(nums, start, mid)\n\u001b[0;32m---> 16\u001b[0m \u001b[43mmerge_sort_helper\u001b[49m\u001b[43m(\u001b[49m\u001b[43mnums\u001b[49m\u001b[43m,\u001b[49m\u001b[43m \u001b[49m\u001b[43mmid\u001b[49m\u001b[38;5;241;43m+\u001b[39;49m\u001b[38;5;241;43m1\u001b[39;49m\u001b[43m,\u001b[49m\u001b[43m \u001b[49m\u001b[43mend\u001b[49m\u001b[43m)\u001b[49m\n\u001b[1;32m     18\u001b[0m result \u001b[38;5;241m=\u001b[39m []\n\u001b[1;32m     19\u001b[0m i \u001b[38;5;241m=\u001b[39m start\n",
      "Cell \u001b[0;32mIn[47], line 16\u001b[0m, in \u001b[0;36mmerge_sort_helper\u001b[0;34m(nums, start, end)\u001b[0m\n\u001b[1;32m     14\u001b[0m mid \u001b[38;5;241m=\u001b[39m (start \u001b[38;5;241m+\u001b[39m end)\u001b[38;5;241m/\u001b[39m\u001b[38;5;241m/\u001b[39m\u001b[38;5;241m2\u001b[39m\n\u001b[1;32m     15\u001b[0m merge_sort_helper(nums, start, mid)\n\u001b[0;32m---> 16\u001b[0m \u001b[43mmerge_sort_helper\u001b[49m\u001b[43m(\u001b[49m\u001b[43mnums\u001b[49m\u001b[43m,\u001b[49m\u001b[43m \u001b[49m\u001b[43mmid\u001b[49m\u001b[38;5;241;43m+\u001b[39;49m\u001b[38;5;241;43m1\u001b[39;49m\u001b[43m,\u001b[49m\u001b[43m \u001b[49m\u001b[43mend\u001b[49m\u001b[43m)\u001b[49m\n\u001b[1;32m     18\u001b[0m result \u001b[38;5;241m=\u001b[39m []\n\u001b[1;32m     19\u001b[0m i \u001b[38;5;241m=\u001b[39m start\n",
      "Cell \u001b[0;32mIn[47], line 22\u001b[0m, in \u001b[0;36mmerge_sort_helper\u001b[0;34m(nums, start, end)\u001b[0m\n\u001b[1;32m     20\u001b[0m j \u001b[38;5;241m=\u001b[39m mid\u001b[38;5;241m+\u001b[39m\u001b[38;5;241m1\u001b[39m\n\u001b[1;32m     21\u001b[0m \u001b[38;5;28;01mwhile\u001b[39;00m i \u001b[38;5;241m<\u001b[39m\u001b[38;5;241m=\u001b[39m mid \u001b[38;5;129;01mand\u001b[39;00m j \u001b[38;5;241m<\u001b[39m\u001b[38;5;241m=\u001b[39m end:\n\u001b[0;32m---> 22\u001b[0m     \u001b[38;5;28;01mif\u001b[39;00m nums[i] \u001b[38;5;241m<\u001b[39m \u001b[43mnums\u001b[49m\u001b[43m[\u001b[49m\u001b[43mj\u001b[49m\u001b[43m]\u001b[49m:\n\u001b[1;32m     23\u001b[0m         result\u001b[38;5;241m.\u001b[39mappend(nums[i])\n\u001b[1;32m     24\u001b[0m         i \u001b[38;5;241m=\u001b[39m i \u001b[38;5;241m+\u001b[39m \u001b[38;5;241m1\u001b[39m\n",
      "\u001b[0;31mIndexError\u001b[0m: list index out of range"
     ]
    }
   ],
   "source": [
    "nums = [4,2,9,5,3,7,1]\n",
    "\n",
    "def merge_sort(nums):\n",
    "    merge_sort_helper(nums, 0, len(nums))\n",
    "    return nums\n",
    "\n",
    "def merge_sort_helper(nums, start, end):\n",
    "    # Problem is so small that there is nothing to do\n",
    "    # Leaf Node\n",
    "    if start == end:\n",
    "        return\n",
    "\n",
    "    # Middle Nodes\n",
    "    mid = (start + end)//2\n",
    "    merge_sort_helper(nums, start, mid)\n",
    "    merge_sort_helper(nums, mid+1, end)\n",
    "\n",
    "    result = []\n",
    "    i = start\n",
    "    j = mid+1\n",
    "    while i <= mid and j <= end:\n",
    "        if nums[i] < nums[j]:\n",
    "            result.append(nums[i])\n",
    "            i = i + 1\n",
    "        else:\n",
    "            result.append(nums[j])\n",
    "            j = j + 1\n",
    "    while i <= mid:\n",
    "        result.append(nums[i])\n",
    "        i = i + 1\n",
    "    while j <= end:\n",
    "        result.append(nums[j])\n",
    "        j = j + 1\n",
    "\n",
    "    return result\n",
    "\n",
    "merge_sort(nums)"
   ]
  },
  {
   "cell_type": "code",
   "execution_count": null,
   "id": "448031c0-90c9-4eab-9d22-1778d2dcac69",
   "metadata": {},
   "outputs": [],
   "source": []
  }
 ],
 "metadata": {
  "kernelspec": {
   "display_name": "Python 3 (ipykernel)",
   "language": "python",
   "name": "python3"
  },
  "language_info": {
   "codemirror_mode": {
    "name": "ipython",
    "version": 3
   },
   "file_extension": ".py",
   "mimetype": "text/x-python",
   "name": "python",
   "nbconvert_exporter": "python",
   "pygments_lexer": "ipython3",
   "version": "3.10.12"
  }
 },
 "nbformat": 4,
 "nbformat_minor": 5
}
