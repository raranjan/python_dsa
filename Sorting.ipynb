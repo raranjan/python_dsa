{
 "cells": [
  {
   "cell_type": "markdown",
   "id": "ef0aff9d-00b9-4896-b0fa-b9de01ac793d",
   "metadata": {},
   "source": [
    "## Brute Force way to sort a given list\n",
    "Given a list, A = [4,2,9,5,3,7,1]\n",
    "Will start from index = 0 and select the minimum value in the rest of the list. If there exist a minimum in the rest of the list, then swap existing item with minimum\n",
    "\n",
    "T(n) = O($n^2$)"
   ]
  },
  {
   "cell_type": "code",
   "execution_count": 16,
   "id": "94387309-7ee4-457f-ad6f-697ba59ce256",
   "metadata": {},
   "outputs": [
    {
     "name": "stdout",
     "output_type": "stream",
     "text": [
      "i=4 and j=2\n",
      "i=4 and j=9\n",
      "i=4 and j=5\n",
      "i=4 and j=3\n",
      "i=4 and j=7\n",
      "i=4 and j=1\n",
      "i=2 and j=9\n",
      "i=2 and j=5\n",
      "i=2 and j=3\n",
      "i=2 and j=7\n",
      "i=2 and j=4\n",
      "i=9 and j=5\n",
      "i=9 and j=3\n",
      "i=9 and j=7\n",
      "i=9 and j=2\n",
      "i=5 and j=3\n",
      "i=5 and j=7\n",
      "i=5 and j=9\n",
      "i=3 and j=7\n",
      "i=3 and j=5\n",
      "i=7 and j=3\n",
      "[1, 4, 2, 9, 5, 3, 7]\n"
     ]
    }
   ],
   "source": [
    "nums = [4,2,9,5,3,7,1]\n",
    "\n",
    "def selection_sort(nums):\n",
    "    for i in range(len(nums)):\n",
    "        min_value = nums[i]\n",
    "        min_index = i\n",
    "        for j in range(i+1, len(nums)):\n",
    "            print(f\"i={nums[i]} and j={nums[j]}\")\n",
    "            if nums[j] < min_value:\n",
    "                min_value = nums[j]\n",
    "                min_index = j\n",
    "        nums[i], nums[min_ind] = nums[j], nums[i]\n",
    "    return nums\n",
    "\n",
    "sorted_nums = selection_sort(nums)\n",
    "print(sorted_nums)"
   ]
  },
  {
   "cell_type": "code",
   "execution_count": null,
   "id": "00b5331c-92c3-4e85-a903-2db560247e87",
   "metadata": {},
   "outputs": [],
   "source": []
  }
 ],
 "metadata": {
  "kernelspec": {
   "display_name": "Python 3 (ipykernel)",
   "language": "python",
   "name": "python3"
  },
  "language_info": {
   "codemirror_mode": {
    "name": "ipython",
    "version": 3
   },
   "file_extension": ".py",
   "mimetype": "text/x-python",
   "name": "python",
   "nbconvert_exporter": "python",
   "pygments_lexer": "ipython3",
   "version": "3.10.12"
  }
 },
 "nbformat": 4,
 "nbformat_minor": 5
}
