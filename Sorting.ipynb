{
 "cells": [
  {
   "cell_type": "markdown",
   "id": "ef0aff9d-00b9-4896-b0fa-b9de01ac793d",
   "metadata": {},
   "source": [
    "## Brute Force way to sort a given list\n",
    "Given a list, A = [4,2,9,5,3,7,1]\n",
    "Will start from index = 0 and select the minimum value in the rest of the list. If there exist a minimum in the rest of the list, then swap existing item with minimum\n",
    "\n",
    "T(n) = O($n^2$)"
   ]
  },
  {
   "cell_type": "code",
   "execution_count": 33,
   "id": "94387309-7ee4-457f-ad6f-697ba59ce256",
   "metadata": {},
   "outputs": [
    {
     "name": "stdout",
     "output_type": "stream",
     "text": [
      "[1, 2, 3, 4, 5, 7, 9]\n"
     ]
    }
   ],
   "source": [
    "nums = [4,2,9,5,3,7,1]\n",
    "\n",
    "def selection_sort(nums):\n",
    "    for i in range(len(nums)):\n",
    "        min_value = nums[i]\n",
    "        min_index = i\n",
    "        for j in range(i+1, len(nums)):\n",
    "            if nums[j] < min_value:\n",
    "                min_value = nums[j]\n",
    "                min_index = j\n",
    "        nums[i], nums[min_index] = nums[min_index], nums[i]\n",
    "    return nums\n",
    "\n",
    "sorted_nums = selection_sort(nums)\n",
    "print(sorted_nums)"
   ]
  },
  {
   "cell_type": "markdown",
   "id": "37a56c2b-d05f-49ef-a8b8-3ac13cb695ae",
   "metadata": {},
   "source": [
    "## Bubble Sort\n",
    "Iterate from right to left and swap any adjacent items in case right item is less than the left item\n",
    "\n",
    "T(n) = O($n^2$)"
   ]
  },
  {
   "cell_type": "code",
   "execution_count": 34,
   "id": "9d0fb697-094e-459f-a9cd-ac28a7773432",
   "metadata": {},
   "outputs": [
    {
     "data": {
      "text/plain": [
       "[1, 2, 3, 4, 5, 7, 9]"
      ]
     },
     "execution_count": 34,
     "metadata": {},
     "output_type": "execute_result"
    }
   ],
   "source": [
    "nums = [4,2,9,5,3,7,1]\n",
    "\n",
    "def bubble_sort(nums):\n",
    "    for i in range(len(nums)):\n",
    "        for j in range(len(nums)-1, i, -1):\n",
    "            if nums[j] < nums[j-1]:\n",
    "                nums[j], nums[j-1] = nums[j-1], nums[j]\n",
    "    return nums\n",
    "\n",
    "bubble_sort(nums)"
   ]
  },
  {
   "cell_type": "code",
   "execution_count": null,
   "id": "dd4221f5-d041-4073-8989-3f6429afcefa",
   "metadata": {},
   "outputs": [],
   "source": []
  }
 ],
 "metadata": {
  "kernelspec": {
   "display_name": "Python 3 (ipykernel)",
   "language": "python",
   "name": "python3"
  },
  "language_info": {
   "codemirror_mode": {
    "name": "ipython",
    "version": 3
   },
   "file_extension": ".py",
   "mimetype": "text/x-python",
   "name": "python",
   "nbconvert_exporter": "python",
   "pygments_lexer": "ipython3",
   "version": "3.10.12"
  }
 },
 "nbformat": 4,
 "nbformat_minor": 5
}
